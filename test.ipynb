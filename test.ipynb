{
 "cells": [
  {
   "cell_type": "code",
   "execution_count": 1,
   "metadata": {},
   "outputs": [],
   "source": [
    "import numpy as np\n",
    "from pytorch_forecasting.data.examples import get_stallion_data\n",
    "\n",
    "data = get_stallion_data()\n",
    "\n",
    "data[\"id\"] = (data[\"agency\"].astype(str) + \"_\" + data[\"sku\"].astype(str)).astype(\"category\")\n",
    "\n",
    "# add time index\n",
    "data[\"time_idx\"] = data[\"date\"].dt.year * 12 + data[\"date\"].dt.month\n",
    "data[\"time_idx\"] -= data[\"time_idx\"].min()\n",
    "\n",
    "# add additional features\n",
    "data[\"month\"] = data.date.dt.month.astype(str).astype(\"category\")  # categories have be strings\n",
    "data[\"log_volume\"] = np.log(data.volume + 1e-8)\n",
    "data[\"avg_volume_by_sku\"] = data.groupby([\"time_idx\", \"sku\"], observed=True).volume.transform(\"mean\")\n",
    "data[\"avg_volume_by_agency\"] = data.groupby([\"time_idx\", \"agency\"], observed=True).volume.transform(\"mean\")\n",
    "\n",
    "data[\"sku_int\"] = data[\"sku\"].cat.codes.astype(int)\n",
    "data[\"agency_int\"] = data[\"agency\"].cat.codes.astype(int)\n",
    "\n",
    "# we want to encode special days as one variable and thus need to first reverse one-hot encoding\n",
    "special_days = [\n",
    "    \"easter_day\",\n",
    "    \"good_friday\",\n",
    "    \"new_year\",\n",
    "    \"christmas\",\n",
    "    \"labor_day\",\n",
    "    \"independence_day\",\n",
    "    \"revolution_day_memorial\",\n",
    "    \"regional_games\",\n",
    "    \"fifa_u_17_world_cup\",\n",
    "    \"football_gold_cup\",\n",
    "    \"beer_capital\",\n",
    "    \"music_fest\",\n",
    "]\n",
    "data[special_days] = data[special_days].apply(lambda x: x.map({0: \"-\", 1: x.name})).astype(\"category\")\n",
    "data[\"new_year_int\"] = data[\"new_year\"].cat.codes.astype(int)"
   ]
  },
  {
   "cell_type": "code",
   "execution_count": 2,
   "metadata": {},
   "outputs": [],
   "source": [
    "# :\n",
    "# max_prediction_length = 6\n",
    "# max_encoder_length = 24\n",
    "# training_cutoff = data[\"time_idx\"].max() - max_prediction_length\n",
    "\n",
    "# training = a(\n",
    "#     time_idx=\"time_idx\",\n",
    "#     target=\"volume\",\n",
    "#     group_ids=[\"agency\", \"sku\"],\n",
    "#     min_encoder_length=0,  # allow encoder lengths from 0 to max_prediction_length\n",
    "#     max_encoder_length=max_encoder_length,\n",
    "#     max_prediction_length=max_prediction_length,\n",
    "#     static_categoricals=[\"agency\", \"sku\"],\n",
    "#     static_reals=[\"avg_population_2017\", \"avg_yearly_household_income_2017\"],\n",
    "#     time_varying_known_categoricals=[\"special_days\", \"month\"],\n",
    "#     variable_groups={\"special_days\": special_days},  # group of categorical variables can be treated as one variable\n",
    "#     time_varying_known_reals=[\"time_idx\", \"price_regular\", \"discount_in_percent\"],\n",
    "#     time_varying_unknown_categoricals=[],\n",
    "#     time_varying_unknown_reals=[\"volume\", \"log_volume\", \"industry_volume\", \"soda_volume\", \"avg_max_temp\", \"avg_volume_by_agency\", \"avg_volume_by_sku\"],\n",
    "# )"
   ]
  },
  {
   "cell_type": "code",
   "execution_count": 3,
   "metadata": {},
   "outputs": [
    {
     "data": {
      "text/plain": [
       "58"
      ]
     },
     "execution_count": 3,
     "metadata": {},
     "output_type": "execute_result"
    }
   ],
   "source": [
    "max(len(data[\"agency_int\"].unique()), len(data[\"sku_int\"].unique()))"
   ]
  },
  {
   "cell_type": "code",
   "execution_count": 4,
   "metadata": {},
   "outputs": [
    {
     "name": "stdout",
     "output_type": "stream",
     "text": [
      "Getting valid sampling locations.\n",
      "Max samples=1000 exceeds # available segments=700\n"
     ]
    },
    {
     "name": "stderr",
     "output_type": "stream",
     "text": [
      "/Users/thomaskientz/Documents/Documents - Thomas’s MacBook Pro/Github/tft-forecasting/tft_forecasting/model/utils.py:81: FutureWarning: The default of observed=False is deprecated and will be changed to True in a future version of pandas. Pass observed=False to retain current behavior or observed=True to adopt the future default and silence this warning.\n",
      "  for identifier, df in data.groupby(id_col):\n"
     ]
    }
   ],
   "source": [
    "from tft_forecasting.model.utils import TSDataset\n",
    "\n",
    "ds = TSDataset(\n",
    "    id_col = \"id\", \n",
    "    static_cols = [\"sku_int\", \"agency_int\"], \n",
    "    time_col = \"time_idx\", \n",
    "    input_cols = [\"industry_volume\", \"soda_volume\", \"avg_max_temp\", \"avg_volume_by_agency\", \"avg_volume_by_sku\", \"new_year_int\", \"discount_in_percent\"],\n",
    "    target_col = \"volume\", \n",
    "    time_steps = 59, \n",
    "    max_samples = 1000,\n",
    "    input_size = 7, \n",
    "    encode_length = 40, \n",
    "    num_static = 2,\n",
    "    output_size = 1, \n",
    "    data = data,\n",
    ")"
   ]
  },
  {
   "cell_type": "code",
   "execution_count": 5,
   "metadata": {},
   "outputs": [],
   "source": [
    "from torch.utils.data import DataLoader\n",
    "\n",
    "batch_size = 64\n",
    "loader = DataLoader(\n",
    "    ds,\n",
    "    batch_size=batch_size,\n",
    "    num_workers=1,\n",
    "    shuffle=True\n",
    ")"
   ]
  },
  {
   "cell_type": "code",
   "execution_count": 6,
   "metadata": {},
   "outputs": [],
   "source": [
    "from tft_forecasting import TFT\n",
    "\n",
    "for batch in loader:\n",
    "    break\n",
    "\n",
    "model = TFT(\n",
    "    batch_size=batch_size,\n",
    "    static_variables=2,\n",
    "    n_past_covariates=5,\n",
    "    n_past_categorical_covariates=1,\n",
    "    n_future_covariates=1,\n",
    "    num_masked_series=5,\n",
    "    embedding_dim=8,\n",
    "    static_embedding_vocab_size=58,\n",
    "    time_varying_embedding_vocab_size=2,\n",
    "    encode_length=40,  # kind of like training size\n",
    "    seq_length=59  # kind of like total size, and predicting window is seq_length - encode_length\n",
    ")\n",
    "\n",
    "(\n",
    "    output,\n",
    "    encoder_output,\n",
    "    decoder_output,\n",
    "    attn_output,\n",
    "    attn_output_weights,\n",
    "    encoder_sparse_weights,\n",
    "    decoder_sparse_weights,\n",
    ") = model.forward(batch)"
   ]
  },
  {
   "cell_type": "code",
   "execution_count": 7,
   "metadata": {},
   "outputs": [],
   "source": [
    "(\n",
    "    output,\n",
    "    encoder_output,\n",
    "    decoder_output,\n",
    "    attn_output,\n",
    "    attn_output_weights,\n",
    "    encoder_sparse_weights,\n",
    "    decoder_sparse_weights,\n",
    ") = model.forward(batch)"
   ]
  },
  {
   "cell_type": "code",
   "execution_count": 8,
   "metadata": {},
   "outputs": [
    {
     "data": {
      "text/plain": [
       "<Axes: >"
      ]
     },
     "execution_count": 8,
     "metadata": {},
     "output_type": "execute_result"
    },
    {
     "data": {
      "image/png": "[encoded data removed]",
      "text/plain": [
       "<Figure size 640x480 with 1 Axes>"
      ]
     },
     "metadata": {},
     "output_type": "display_data"
    }
   ],
   "source": [
    "import pandas as pd\n",
    "\n",
    "pd.DataFrame(output[0].detach().numpy()).plot()"
   ]
  },
  {
   "cell_type": "code",
   "execution_count": 9,
   "metadata": {},
   "outputs": [
    {
     "name": "stdout",
     "output_type": "stream",
     "text": [
      "Getting valid sampling locations.\n",
      "Max samples=10000 exceeds # available segments=700\n"
     ]
    },
    {
     "name": "stderr",
     "output_type": "stream",
     "text": [
      "/Users/thomaskientz/Documents/Documents - Thomas’s MacBook Pro/Github/tft-forecasting/tft_forecasting/model/utils.py:81: FutureWarning: The default of observed=False is deprecated and will be changed to True in a future version of pandas. Pass observed=False to retain current behavior or observed=True to adopt the future default and silence this warning.\n",
      "  for identifier, df in data.groupby(id_col):\n"
     ]
    },
    {
     "name": "stdout",
     "output_type": "stream",
     "text": [
      "Epoch 1/40, Train Loss: 157.6931, Validation Loss: 177.3222\n",
      "Epoch 2/40, Train Loss: 157.5994, Validation Loss: 177.3615\n",
      "Epoch 3/40, Train Loss: 157.5435, Validation Loss: 177.3463\n",
      "Epoch 4/40, Train Loss: 157.5083, Validation Loss: 177.3171\n",
      "Epoch 5/40, Train Loss: 157.4849, Validation Loss: 177.3207\n",
      "Epoch 6/40, Train Loss: 157.4673, Validation Loss: 177.3306\n",
      "Epoch 7/40, Train Loss: 157.4530, Validation Loss: 177.3142\n",
      "Epoch 8/40, Train Loss: 157.4403, Validation Loss: 177.3112\n"
     ]
    }
   ],
   "source": [
    "import torch\n",
    "import numpy as np\n",
    "import torch.optim as optim\n",
    "from torch.utils.data import DataLoader, random_split\n",
    "from tft_forecasting.model.utils import QuantileLoss\n",
    "\n",
    "# Quantile loss for multiple quantiles\n",
    "q_loss_func = QuantileLoss([0.1, 0.5, 0.9])\n",
    "batch_size = 64\n",
    "\n",
    "# Dataset setup\n",
    "ds = TSDataset(\n",
    "    id_col=\"id\", \n",
    "    static_cols=[\"sku_int\", \"agency_int\"], \n",
    "    time_col=\"time_idx\", \n",
    "    input_cols=[\"industry_volume\", \"soda_volume\", \"avg_max_temp\", \"avg_volume_by_agency\", \"avg_volume_by_sku\", \"new_year_int\", \"discount_in_percent\"],\n",
    "    target_col=\"volume\", \n",
    "    time_steps=59, \n",
    "    max_samples=10000,\n",
    "    input_size=7, \n",
    "    encode_length=40, \n",
    "    num_static=2,\n",
    "    output_size=1, \n",
    "    data=data\n",
    ")\n",
    "\n",
    "# Splitting the dataset into training and validation sets\n",
    "train_size = int(0.8 * len(ds))\n",
    "test_size = len(ds) - train_size\n",
    "train_dataset, val_dataset = random_split(ds, [train_size, test_size])\n",
    "\n",
    "# DataLoaders for training and validation\n",
    "train_loader = DataLoader(\n",
    "    train_dataset,\n",
    "    batch_size=batch_size,\n",
    "    num_workers=1,\n",
    "    shuffle=True,\n",
    "    drop_last=True\n",
    ")\n",
    "val_loader = DataLoader(\n",
    "    val_dataset,\n",
    "    batch_size=batch_size,\n",
    "    num_workers=1,\n",
    "    shuffle=False,\n",
    "    drop_last=True\n",
    ")\n",
    "\n",
    "# Optimizer\n",
    "optimizer = optim.Adam(model.parameters(), lr=1e-5)\n",
    "\n",
    "# Model training\n",
    "model.train()\n",
    "epochs = 40\n",
    "training_losses = []\n",
    "validation_losses = []\n",
    "\n",
    "for epoch in range(epochs):\n",
    "    epoch_training_losses = []\n",
    "    epoch_validation_losses = []\n",
    "    \n",
    "    # Training phase\n",
    "    for batch in train_loader:\n",
    "        optimizer.zero_grad()\n",
    "        (\n",
    "            output,\n",
    "            encoder_output,\n",
    "            decoder_output,\n",
    "            attn_output,\n",
    "            attn_output_weights,\n",
    "            encoder_sparse_weights,\n",
    "            decoder_sparse_weights,\n",
    "        ) = model(batch)\n",
    "        loss = q_loss_func(output[:, :, :].view(-1, 3), batch['outputs'][:, :, 0].flatten().float())\n",
    "        loss.backward()\n",
    "        optimizer.step()\n",
    "        epoch_training_losses.append(loss.item())\n",
    "\n",
    "    # Validation phase\n",
    "    model.eval()  # Set the model to evaluation mode\n",
    "    with torch.no_grad():\n",
    "        for batch in val_loader:\n",
    "            (\n",
    "                output,\n",
    "                encoder_output,\n",
    "                decoder_output,\n",
    "                attn_output,\n",
    "                attn_output_weights,\n",
    "                encoder_sparse_weights,\n",
    "                decoder_sparse_weights,\n",
    "            ) = model(batch)\n",
    "            loss = q_loss_func(output[:, :, :].view(-1, 3), batch['outputs'][:, :, 0].flatten().float())\n",
    "            epoch_validation_losses.append(loss.item())\n",
    "    model.train()  # Set the model back to training mode\n",
    "\n",
    "    # Logging the average losses\n",
    "    avg_train_loss = np.mean(epoch_training_losses)\n",
    "    avg_val_loss = np.mean(epoch_validation_losses)\n",
    "    training_losses.append(avg_train_loss)\n",
    "    validation_losses.append(avg_val_loss)\n",
    "\n",
    "    print(f\"Epoch {epoch+1}/{epochs}, Train Loss: {avg_train_loss:.4f}, Validation Loss: {avg_val_loss:.4f}\")\n",
    "\n"
   ]
  },
  {
   "cell_type": "code",
   "execution_count": null,
   "metadata": {},
   "outputs": [],
   "source": []
  }
 ],
 "metadata": {
  "kernelspec": {
   "display_name": "tft-forecasting-3JJ3Pwbz-py3.9",
   "language": "python",
   "name": "python3"
  },
  "language_info": {
   "codemirror_mode": {
    "name": "ipython",
    "version": 3
   },
   "file_extension": ".py",
   "mimetype": "text/x-python",
   "name": "python",
   "nbconvert_exporter": "python",
   "pygments_lexer": "ipython3",
   "version": "3.9.7"
  }
 },
 "nbformat": 4,
 "nbformat_minor": 2
}
